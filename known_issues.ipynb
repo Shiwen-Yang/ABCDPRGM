{
 "cells": [
  {
   "cell_type": "code",
   "execution_count": null,
   "metadata": {},
   "outputs": [],
   "source": [
    "import numpy as np\n",
    "import matplotlib.pyplot as plt\n",
    "import seaborn as sns\n",
    "import torch\n",
    "from torch.distributions import Dirichlet, Bernoulli, Uniform\n",
    "import pandas as pd\n",
    "from tqdm import tqdm as tm"
   ]
  },
  {
   "cell_type": "code",
   "execution_count": null,
   "metadata": {},
   "outputs": [],
   "source": [
    "from src import Simulation_dupe as sim\n",
    "from src import Dir_Reg\n",
    "from src import Align\n",
    "from src import visualize_latent_space as vls\n",
    "\n",
    "device = torch.device('cuda') if torch.cuda.is_available() else torch.device('cpu')\n",
    "device = torch.device(\"mps\") if torch.backends.mps.is_available() else device\n",
    "\n",
    "print(device)"
   ]
  },
  {
   "cell_type": "markdown",
   "metadata": {},
   "source": [
    "The RGD stuff seems to have 2 stability-ish issues that needs to be addressed:\n",
    "1. once in a while, it fails to minimize the out-of-simplex loss: This seems to be a result of the ReLU loss being too rigid, as the softplus loss with a large beta suffers a similar problem\n",
    "2. it is not really affected by the initial guess: This is somewhat okay under low-dimensional settings, because we would simply get a permuted alignment instead --> XW * (W^T)B, we get (W^T)B\n",
    "3. sometimes the result is NA: this is because we are using the true beta to initialize, but sometimes the recovered alignment is XW which corresponds to (W^T)B instead of B"
   ]
  },
  {
   "cell_type": "code",
   "execution_count": 1,
   "metadata": {},
   "outputs": [
    {
     "name": "stdout",
     "output_type": "stream",
     "text": [
      "cuda\n"
     ]
    },
    {
     "name": "stderr",
     "output_type": "stream",
     "text": [
      "300: 100%|██████████| 1/1 [00:00<00:00,  1.04it/s]\n"
     ]
    }
   ],
   "source": [
    "import numpy as np\n",
    "import matplotlib.pyplot as plt\n",
    "import seaborn as sns\n",
    "import torch\n",
    "from torch.distributions import Dirichlet, Bernoulli, Uniform\n",
    "import pandas as pd\n",
    "from tqdm import tqdm as tm\n",
    "from src import Simulation_dupe as sim\n",
    "from src import Dir_Reg\n",
    "from src import Align\n",
    "from src import visualize_latent_space as vls\n",
    "\n",
    "device = torch.device('cuda') if torch.cuda.is_available() else torch.device('cpu')\n",
    "device = torch.device(\"mps\") if torch.backends.mps.is_available() else device\n",
    "\n",
    "print(device)\n",
    "\n",
    "N = 1\n",
    "\n",
    "temp = sim.ABC_Monte_Carlo.consistency_T2(number_of_iterations = N, \n",
    "                                          nodes_set = [300],\n",
    "                                          beta = [1,1,-4, 5],\n",
    "                                          alpha_0 = [[10, 1, 1], [1, 10, 1], [1, 1, 10]],\n",
    "                                          seeded = True,\n",
    "                                          constrained = False,\n",
    "                                          oracle_lat_pos = True,\n",
    "                                          oracle_align = True,\n",
    "                                          no_oracle = True)"
   ]
  },
  {
   "cell_type": "code",
   "execution_count": 10,
   "metadata": {},
   "outputs": [
    {
     "data": {
      "text/plain": [
       "0     0.0\n",
       "1     0.0\n",
       "2     0.0\n",
       "3     0.0\n",
       "4     0.0\n",
       "5     0.0\n",
       "6     0.0\n",
       "7     0.0\n",
       "8     0.0\n",
       "9     0.0\n",
       "10    0.0\n",
       "11    0.0\n",
       "12    0.0\n",
       "13    0.0\n",
       "14    0.0\n",
       "15    0.0\n",
       "16    0.0\n",
       "17    0.0\n",
       "18    0.0\n",
       "19    0.0\n",
       "20    0.0\n",
       "Name: info_lost, dtype: float32"
      ]
     },
     "execution_count": 10,
     "metadata": {},
     "output_type": "execute_result"
    }
   ],
   "source": [
    "temp.MC_result.est[\"info_lost\"][:21]\n",
    "# temp.MC_result.est[\"info_lost\"][21: 42]\n",
    "# temp.MC_result.est[\"info_lost\"][42: 63]\n"
   ]
  },
  {
   "cell_type": "code",
   "execution_count": 11,
   "metadata": {},
   "outputs": [
    {
     "data": {
      "text/plain": [
       "tensor([[ 0.9761,  1.0277, -3.9683,  5.3105],\n",
       "        [ 1.1315,  1.1236, -3.2146,  1.1226],\n",
       "        [ 1.1124,  1.0130, -3.4994,  2.7868]])"
      ]
     },
     "execution_count": 11,
     "metadata": {},
     "output_type": "execute_result"
    }
   ],
   "source": [
    "model = sim.ABC(time = 2,\n",
    "            nodes = 3,\n",
    "            beta = [1,1,-4, 5],\n",
    "            alpha_0 = [[10, 1, 1], [1, 10, 1], [1, 1, 10]])\n",
    "C = model.settings.C\n",
    "\n",
    "res = torch.tensor(temp.MC_result.est[\"B_est\"]).reshape(N*3, 21).T\n",
    "\n",
    "torch.linalg.solve(C.T @ C, C.T @ res).T"
   ]
  },
  {
   "cell_type": "code",
   "execution_count": null,
   "metadata": {},
   "outputs": [],
   "source": [
    "i = 1\n",
    "while i <= 9:\n",
    "    model = sim.ABC(time = 2,\n",
    "                nodes = 3,\n",
    "                beta = [1,1,-4, 5],\n",
    "                alpha_0 = [[10, 1, 1], [1, 10, 1], [1, 1, 10]])\n",
    "    p = model.settings.p\n",
    "    torch.manual_seed(i)\n",
    "    model.update_settings(nodes = 300)\n",
    "    Z0 = model.synth_data[\"lat_pos\"][0,]\n",
    "    Z1 = model.synth_data[\"lat_pos\"][1,]\n",
    "    Y0 = model.synth_data[\"obs_adj\"][0,]\n",
    "    Y1 = model.synth_data[\"obs_adj\"][1,]\n",
    "\n",
    "\n",
    "    Z_0 = Align.No_Oracle(Y0, (p-1)).aligned\n",
    "    X_0 = sim.ABC.gen_X(Y0, Z0, 3)\n",
    "    Z_1 = Align.No_Oracle(Y1, (p-1)).aligned\n",
    "\n",
    "    # vls.lat_vis(Z0, 3, -1, \"Reds\")\n",
    "    # vls.lat_vis(Z1, 3, -1, \"Blues\")\n",
    "\n",
    "    test = Dir_Reg.fit(X_0, Z_1)\n",
    "\n",
    "    res = test.est_result[\"estimate\"].reshape(-1)\n",
    "    print(torch.linalg.solve(C.T @ C, C.T @ res).T)\n",
    "    i += 1"
   ]
  },
  {
   "cell_type": "markdown",
   "metadata": {},
   "source": [
    "Another issue of the no_oracle monte-carlo simulation remains. For some unknown reason, we get the following error:\n",
    "\n",
    "    --> 270 est_NO = est_no_oracle.est_result[\"estimate\"].reshape(-1)\n",
    "\n",
    "    271 fish_NO = est_no_oracle.est_result[\"fisher_info\"].reshape(1, -1)\n",
    "    \n",
    "    272 method_NO = torch.tensor([[0,0,1]])\n",
    "\n",
    "IndexError: too many indices for tensor of dimension 2\n",
    "\n",
    "corresponding seed: 977"
   ]
  },
  {
   "cell_type": "code",
   "execution_count": null,
   "metadata": {},
   "outputs": [],
   "source": [
    "import numpy as np\n",
    "import matplotlib.pyplot as plt\n",
    "import seaborn as sns\n",
    "import torch\n",
    "from torch.distributions import Dirichlet, Bernoulli, Uniform\n",
    "import pandas as pd\n",
    "from tqdm import tqdm as tm\n",
    "\n",
    "from src import Simulation as sim\n",
    "from src import Dir_Reg\n",
    "from src import Align\n",
    "from src import visualize_latent_space as vls\n",
    "\n",
    "device = torch.device('cuda') if torch.cuda.is_available() else torch.device('cpu')\n",
    "device = torch.device(\"mps\") if torch.backends.mps.is_available() else device\n",
    "\n",
    "print(device)"
   ]
  },
  {
   "cell_type": "code",
   "execution_count": null,
   "metadata": {},
   "outputs": [],
   "source": [
    "model = sim.ABC(time = 2,\n",
    "                nodes = 3,\n",
    "                beta = [1,1,-4, 5],\n",
    "                alpha_0 = [[10, 1, 1], [1, 10, 1], [1, 1, 10]])\n",
    "p = model.settings.p\n",
    "torch.manual_seed(9)\n",
    "model.update_settings(nodes = 300)\n",
    "Z0 = model.synth_data[\"lat_pos\"][0,]\n",
    "Z1 = model.synth_data[\"lat_pos\"][1,]\n",
    "Y0 = model.synth_data[\"obs_adj\"][0,]\n",
    "Y1 = model.synth_data[\"obs_adj\"][1,]\n",
    "\n",
    "\n",
    "Z_0 = Align.No_Oracle(Y0, (p-1)).aligned\n",
    "X_0 = sim.ABC.gen_X(Y0, Z0, 3)\n",
    "Z_1 = Align.No_Oracle(Y1, (p-1)).aligned\n",
    "\n",
    "vls.lat_vis(Z0, 3, -1, \"Reds\")\n",
    "vls.lat_vis(Z1, 3, -1, \"Blues\")\n",
    "\n",
    "test = Dir_Reg.fit(X_0, Z_1)\n",
    "\n",
    "model = sim.ABC(time = 2,\n",
    "            nodes = 3,\n",
    "            beta = [1,1,-4, 5],\n",
    "            alpha_0 = [[10, 1, 1], [1, 10, 1], [1, 1, 10]])\n",
    "C = model.settings.C\n",
    "res = test.est_result[\"estimate\"].reshape(-1)\n",
    "print(torch.linalg.solve(C.T @ C, C.T @ res).T)"
   ]
  },
  {
   "cell_type": "code",
   "execution_count": null,
   "metadata": {},
   "outputs": [],
   "source": [
    "test.est_result"
   ]
  },
  {
   "cell_type": "code",
   "execution_count": null,
   "metadata": {},
   "outputs": [],
   "source": []
  }
 ],
 "metadata": {
  "kernelspec": {
   "display_name": "Python 3",
   "language": "python",
   "name": "python3"
  },
  "language_info": {
   "codemirror_mode": {
    "name": "ipython",
    "version": 3
   },
   "file_extension": ".py",
   "mimetype": "text/x-python",
   "name": "python",
   "nbconvert_exporter": "python",
   "pygments_lexer": "ipython3",
   "version": "3.11.7"
  }
 },
 "nbformat": 4,
 "nbformat_minor": 2
}
