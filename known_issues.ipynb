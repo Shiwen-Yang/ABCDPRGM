{
 "cells": [
  {
   "cell_type": "code",
   "execution_count": 1,
   "metadata": {},
   "outputs": [],
   "source": [
    "import numpy as np\n",
    "import matplotlib.pyplot as plt\n",
    "import seaborn as sns\n",
    "import torch\n",
    "from torch.distributions import Dirichlet, Bernoulli, Uniform\n",
    "import pandas as pd\n",
    "from tqdm import tqdm as tm"
   ]
  },
  {
   "cell_type": "code",
   "execution_count": 3,
   "metadata": {},
   "outputs": [
    {
     "name": "stdout",
     "output_type": "stream",
     "text": [
      "cuda\n"
     ]
    }
   ],
   "source": [
    "from src import Dir_Reg\n",
    "from src import Align\n",
    "from src import visualize_latent_space as vls\n",
    "\n",
    "device = torch.device('cuda') if torch.cuda.is_available() else torch.device('cpu')\n",
    "device = torch.device(\"mps\") if torch.backends.mps.is_available() else device\n",
    "\n",
    "print(device)"
   ]
  },
  {
   "cell_type": "markdown",
   "metadata": {},
   "source": [
    "The RGD stuff seems to have 2 stability-ish issues that needs to be addressed:\n",
    "1. once in a while, it fails to minimize the out-of-simplex loss: This seems to be a result of the ReLU loss being too rigid, as the softplus loss with a large beta suffers a similar problem\n",
    "2. it is not really affected by the initial guess: This is somewhat okay under low-dimensional settings, because we would simply get a permuted alignment instead --> XW * (W^T)B, we get (W^T)B\n",
    "3. sometimes the result is NA: this is because we are using the true beta to initialize, but sometimes the recovered alignment is XW which corresponds to (W^T)B instead of B"
   ]
  },
  {
   "cell_type": "code",
   "execution_count": null,
   "metadata": {},
   "outputs": [],
   "source": [
    "import numpy as np\n",
    "import matplotlib.pyplot as plt\n",
    "import seaborn as sns\n",
    "import torch\n",
    "from torch.distributions import Dirichlet, Bernoulli, Uniform\n",
    "import pandas as pd\n",
    "from tqdm import tqdm as tm\n",
    "from src import Simulation as sim\n",
    "from src import Dir_Reg\n",
    "from src import Align\n",
    "from src import visualize_latent_space as vls\n",
    "\n",
    "device = torch.device('cuda') if torch.cuda.is_available() else torch.device('cpu')\n",
    "device = torch.device(\"mps\") if torch.backends.mps.is_available() else device\n",
    "\n",
    "print(device)\n",
    "\n",
    "N = 1\n",
    "\n",
    "temp = sim.ABC_Monte_Carlo.consistency_T2(number_of_iterations = N, \n",
    "                                          nodes_set = [300],\n",
    "                                          beta = [1,1,-4, 5],\n",
    "                                          alpha_0 = [[10, 1, 1], [1, 10, 1], [1, 1, 10]],\n",
    "                                          seeded = True,\n",
    "                                          constrained = False,\n",
    "                                          oracle_lat_pos = True,\n",
    "                                          oracle_align = True,\n",
    "                                          no_oracle = True)"
   ]
  },
  {
   "cell_type": "code",
   "execution_count": null,
   "metadata": {},
   "outputs": [],
   "source": [
    "model = sim.ABC(time = 2,\n",
    "            nodes = 3,\n",
    "            beta = [1,1,-4, 5],\n",
    "            alpha_0 = [[10, 1, 1], [1, 10, 1], [1, 1, 10]])\n",
    "C = model.settings.C\n",
    "\n",
    "res = torch.tensor(temp.MC_result.est[\"B_est\"]).reshape(N*3, 21).T\n",
    "\n",
    "torch.linalg.solve(C.T @ C, C.T @ res).T"
   ]
  },
  {
   "cell_type": "code",
   "execution_count": null,
   "metadata": {},
   "outputs": [],
   "source": [
    "i = 1\n",
    "while i <= 2:\n",
    "    model = sim.ABC(time = 2,\n",
    "                nodes = 3,\n",
    "                beta = [1,1,-4, 5],\n",
    "                alpha_0 = [[10, 1, 1], [1, 10, 1], [1, 1, 10]])\n",
    "    p = model.settings.p\n",
    "    torch.manual_seed(i)\n",
    "    model.update_settings(nodes = 300)\n",
    "    Z0 = model.synth_data[\"lat_pos\"][0,]\n",
    "    Z1 = model.synth_data[\"lat_pos\"][1,]\n",
    "    Y0 = model.synth_data[\"obs_adj\"][0,]\n",
    "    Y1 = model.synth_data[\"obs_adj\"][1,]\n",
    "\n",
    "\n",
    "    Z_0 = Align.No_Oracle(Y0, (p-1)).aligned\n",
    "    X_0 = sim.ABC.gen_X(Y0, Z0, 3)\n",
    "    ref_Z0 = Z_0[:, :2]\n",
    "    Z_1 = Align.No_Oracle(Y1, (p-1), ref_Z0).aligned\n",
    "\n",
    "    # vls.lat_vis(Z0, 3, -1, \"Reds\")\n",
    "    # vls.lat_vis(Z1, 3, -1, \"Blues\")\n",
    "\n",
    "    test = Dir_Reg.fit(X_0, Z_1)\n",
    "\n",
    "    res = test.est_result[\"estimate\"].reshape(-1)\n",
    "    print(torch.linalg.solve(C.T @ C, C.T @ res).T)\n",
    "    i += 1"
   ]
  },
  {
   "cell_type": "markdown",
   "metadata": {},
   "source": [
    "Another issue of the no_oracle monte-carlo simulation remains. For some unknown reason, we get the following error:\n",
    "\n",
    "    --> 270 est_NO = est_no_oracle.est_result[\"estimate\"].reshape(-1)\n",
    "\n",
    "    271 fish_NO = est_no_oracle.est_result[\"fisher_info\"].reshape(1, -1)\n",
    "    \n",
    "    272 method_NO = torch.tensor([[0,0,1]])\n",
    "\n",
    "IndexError: too many indices for tensor of dimension 2\n",
    "\n",
    "corresponding seed: 977"
   ]
  },
  {
   "cell_type": "code",
   "execution_count": null,
   "metadata": {},
   "outputs": [],
   "source": [
    "import numpy as np\n",
    "import matplotlib.pyplot as plt\n",
    "import seaborn as sns\n",
    "import torch\n",
    "from torch.distributions import Dirichlet, Bernoulli, Uniform\n",
    "import pandas as pd\n",
    "from tqdm import tqdm as tm\n",
    "\n",
    "from src import Simulation as sim\n",
    "from src import Dir_Reg\n",
    "from src import Align\n",
    "from src import visualize_latent_space as vls\n",
    "from src import ABC_Reg\n",
    "\n",
    "device = torch.device('cuda') if torch.cuda.is_available() else torch.device('cpu')\n",
    "device = torch.device(\"mps\") if torch.backends.mps.is_available() else device\n",
    "\n",
    "\n",
    "\n",
    "print(device)\n",
    "i = 1"
   ]
  },
  {
   "cell_type": "code",
   "execution_count": null,
   "metadata": {},
   "outputs": [],
   "source": [
    "\n",
    "model = sim.ABC(time = 2,\n",
    "                nodes = 3,\n",
    "                beta = [1,1,-4, 5],\n",
    "                alpha_0 = [[10, 1, 1], [1, 10, 1], [1, 1, 10]])\n",
    "p = model.settings.p\n",
    "C = model.settings.C\n",
    "\n",
    "ortho_trans = torch.tensor([[0, 1],[1., 0]])\n",
    "core = torch.kron(torch.eye(3), ortho_trans)\n",
    "W_X = torch.block_diag(core, torch.tensor(1.))\n",
    "\n",
    "torch.manual_seed(i)\n",
    "model.update_settings(nodes = 4500)\n",
    "Z0 = model.synth_data[\"lat_pos\"][0,]\n",
    "Z1 = model.synth_data[\"lat_pos\"][1,]\n",
    "Y0 = model.synth_data[\"obs_adj\"][0,]\n",
    "Y1 = model.synth_data[\"obs_adj\"][1,]\n",
    "\n",
    "Z0_OA = Align.Oracle(Z0, Y0, (p-1)).embed_aligned\n",
    "X0_OA = sim.ABC.gen_X(Y0, Z0_OA, 3)\n",
    "Z1_OA = Align.Oracle(Z1, Y1, (p-1)).embed_aligned\n",
    "\n",
    "\n",
    "Z0_OA_perm = ABC_Reg.ABC_est.mult_W(Z0_OA, ortho_trans)\n",
    "X0_OA_perm = sim.ABC.gen_X(Y0, Z0_OA_perm, 3)\n",
    "Z1_OA_perm = ABC_Reg.ABC_est.mult_W(Z1_OA, ortho_trans)\n",
    "\n",
    "# Z0_NO = Align.No_Oracle(Y0, (p-1)).aligned\n",
    "# X0_NO = sim.ABC.gen_X(Y0, Z0_NO, 3)\n",
    "# Z1_NO = Align.No_Oracle(Y1, (p-1)).aligned\n",
    "\n",
    "\n",
    "test_1 = Dir_Reg.fit(X0_OA, Z1_OA, False) \n",
    "# test_2 = Dir_Reg.fit(X0_NO, Z1_NO, False)\n",
    "\n",
    "res_1 = test_1.est_result[\"estimate\"]\n",
    "# res_2 = test_2.est_result[\"estimate\"]\n",
    "\n",
    "print(torch.linalg.solve(C.T @ C, C.T @ res_1.reshape(-1)).T)\n",
    "# print(torch.linalg.solve(C.T @ C, C.T @ res_2.reshape(-1)).T)\n",
    "\n",
    "\n",
    "i += 1"
   ]
  },
  {
   "cell_type": "code",
   "execution_count": null,
   "metadata": {},
   "outputs": [],
   "source": [
    "Z0_ASE = Align.Oracle.ASE(Y0, (p-1))\n",
    "Z1_ASE = Align.Oracle.ASE(Y1, (p-1))\n",
    "\n",
    "Z0_NO_align_mat = Align.Op_Riemannian_GD(data = Z0_ASE,\n",
    "                                         initialization = None,\n",
    "                                         mode = \"softplus\").align_mat\n",
    "Z0_NO = ABC_Reg.ABC_est.mult_W(Z0_ASE, Z0_NO_align_mat)\n",
    "\n",
    "init = Align.Oracle.ortho_proc(Z0_NO[:,:2], Z1_ASE[:,:2])\n",
    "\n",
    "Z1_NO_init_amat = Align.Op_Riemannian_GD(Z1_ASE, init, \"softplus\").align_mat"
   ]
  },
  {
   "cell_type": "code",
   "execution_count": null,
   "metadata": {},
   "outputs": [],
   "source": [
    "Z0_ASE"
   ]
  },
  {
   "cell_type": "code",
   "execution_count": 1,
   "metadata": {},
   "outputs": [],
   "source": [
    "import numpy as np\n",
    "import matplotlib.pyplot as plt\n",
    "import seaborn as sns\n",
    "import torch\n",
    "from torch.distributions import Dirichlet, Bernoulli, Uniform\n",
    "import pandas as pd\n",
    "from tqdm import tqdm as tm\n",
    "\n",
    "from src import Simulation as sim\n",
    "from src import Dir_Reg\n",
    "from src import Align\n",
    "from src import visualize_latent_space as vls\n",
    "from src import ABC_Reg\n",
    "\n",
    "device = torch.device('cuda') if torch.cuda.is_available() else torch.device('cpu')\n",
    "device = torch.device(\"mps\") if torch.backends.mps.is_available() else device\n"
   ]
  },
  {
   "cell_type": "code",
   "execution_count": null,
   "metadata": {},
   "outputs": [],
   "source": [
    "from src import ABC_Reg\n",
    "\n",
    "\n",
    "i = 1\n",
    "while i <= 2:\n",
    "    model = sim.ABC(time = 2,\n",
    "                    nodes = 3,\n",
    "                    beta = [1,1,-4, 5],\n",
    "                    alpha_0 = [[10, 1, 1], [1, 10, 1], [1, 1, 10]])\n",
    "    p = model.settings.p\n",
    "    C = model.settings.C\n",
    "    model.update_settings(nodes = 3000)\n",
    "\n",
    "    \n",
    "    test = ABC_Reg.ABC_est(embed_dimension = p - 1,\n",
    "                           two_lat_pos = model.synth_data[\"lat_pos\"],\n",
    "                           two_adj_mat = model.synth_data[\"obs_adj\"],\n",
    "                           constrained = False)\n",
    "    \n",
    "    test.update_mode(\"OA\")\n",
    "    res = test.fitted.est_result[\"estimate\"]\n",
    "\n",
    "    print(torch.linalg.solve(C.T @ C, C.T @ res.reshape(-1)).T)\n",
    "    i += 1"
   ]
  },
  {
   "cell_type": "code",
   "execution_count": 2,
   "metadata": {},
   "outputs": [],
   "source": [
    "model = sim.ABC(time = 2,\n",
    "                nodes = 3,\n",
    "                beta = [1,1,-4, 5],\n",
    "                alpha_0 = [[10, 1, 1], [1, 10, 1], [1, 1, 10]])\n",
    "p = model.settings.p\n",
    "C = model.settings.C\n",
    "model.update_settings(nodes = 3000)\n",
    "\n",
    "\n",
    "test = ABC_Reg.est(embed_dimension = p - 1,\n",
    "                        two_lat_pos = model.synth_data[\"lat_pos\"],\n",
    "                        two_adj_mat = model.synth_data[\"obs_adj\"],\n",
    "                        constrained = False,\n",
    "                        beta_guess = torch.tensor([1.,1,-4, 5]))\n"
   ]
  },
  {
   "cell_type": "code",
   "execution_count": 6,
   "metadata": {},
   "outputs": [
    {
     "name": "stdout",
     "output_type": "stream",
     "text": [
      "tensor([ 1.0150,  1.0067, -3.9547,  5.3582])\n"
     ]
    }
   ],
   "source": [
    "test.specify_mode(\"OL\")\n",
    "res = test.fitted.est_result[\"estimate\"]\n",
    "print(torch.linalg.solve(C.T @ C, C.T @ res.reshape(-1)).T)"
   ]
  },
  {
   "cell_type": "code",
   "execution_count": 1,
   "metadata": {},
   "outputs": [
    {
     "name": "stdout",
     "output_type": "stream",
     "text": [
      "cuda\n"
     ]
    }
   ],
   "source": [
    "import pandas as pd\n",
    "import seaborn as sns\n",
    "import numpy as np\n",
    "import igraph as ig\n",
    "import torch\n",
    "import plotly.express as px\n",
    "import matplotlib.pyplot as plt\n",
    "from src import Simulation as sim\n",
    "from src import Dir_Reg\n",
    "from . import Dir_Reg as DR\n",
    "from src import Dirichlet_Parameter as DP\n",
    "from src import Align\n",
    "from src import visualize_latent_space as vls\n",
    "from src import ABC_Reg\n",
    "\n",
    "\n",
    "device = torch.device('cuda') if torch.cuda.is_available() else torch.device('cpu')\n",
    "print(device)\n"
   ]
  },
  {
   "cell_type": "code",
   "execution_count": 10,
   "metadata": {},
   "outputs": [
    {
     "name": "stdout",
     "output_type": "stream",
     "text": [
      "estimate of β is tensor([ 0.9913,  1.0530, -4.0367,  2.9172])\n"
     ]
    }
   ],
   "source": [
    "T, n, alpha_0 = 2, 2100, [[1,1,1], [1,1,1], [1,1,1]]\n",
    "C = Dir_Reg.fit.gen_constraint(3, True)\n",
    "model_neg_4 = sim.ABC(time = T,\n",
    "                    nodes = n,\n",
    "                    beta = [1,1,-4,5],\n",
    "                    alpha_0 = alpha_0)\n",
    "\n",
    "Z0, Z1 = model_neg_4.synth_data[\"lat_pos\"]\n",
    "Y0, Y1 = model_neg_4.synth_data[\"obs_adj\"]\n",
    "\n",
    "X0 = sim.ABC.gen_X(Y0, Z0, 3)\n",
    "result = DR.fit(X0, Z1, beta_guess = torch.tensor([0,0,0,0]), constrained = False, tol = 1)\n",
    "result.Dir_GD_unconstrained()\n",
    "est = result.est_result[\"estimate\"]\n",
    "\n",
    "print(f\"estimate of \\u03B2 is {torch.linalg.solve(C.T @ C, C.T) @ est.reshape(-1)}\")"
   ]
  },
  {
   "cell_type": "code",
   "execution_count": 1,
   "metadata": {},
   "outputs": [],
   "source": [
    "import torch"
   ]
  },
  {
   "cell_type": "code",
   "execution_count": 7,
   "metadata": {},
   "outputs": [
    {
     "data": {
      "text/plain": [
       "tensor(1.0000)"
      ]
     },
     "execution_count": 7,
     "metadata": {},
     "output_type": "execute_result"
    }
   ],
   "source": [
    "A = torch.tensor([[0.1, 0.3, 0.4, 0.2]])\n",
    "torch.sum(A.T @ A)"
   ]
  },
  {
   "cell_type": "code",
   "execution_count": 6,
   "metadata": {},
   "outputs": [],
   "source": [
    "A = torch.tensor([[1,2,3], [2,3,4], [3,4,5]], dtype = torch.float)\n",
    "I3 = torch.eye(3)"
   ]
  },
  {
   "cell_type": "code",
   "execution_count": 6,
   "metadata": {},
   "outputs": [],
   "source": [
    "import torch\n",
    "\n",
    "# Define the parameters for the Dirichlet distribution\n",
    "alpha = torch.tensor([5.0, 5.0, 5.0])\n",
    "\n",
    "# Define the number of rows in the matrix\n",
    "n = 10000  # Change this to whatever number of rows you need\n",
    "\n",
    "# Generate the Dirichlet random variables\n",
    "dist = Dirichlet(alpha)\n",
    "mat = dist.sample((n,))"
   ]
  },
  {
   "cell_type": "code",
   "execution_count": 14,
   "metadata": {},
   "outputs": [
    {
     "data": {
      "text/plain": [
       "tensor([[0.2710, 0.3263, 0.4027],\n",
       "        [0.3149, 0.3557, 0.3294],\n",
       "        [0.4806, 0.3109, 0.2085],\n",
       "        [0.3642, 0.0637, 0.5720],\n",
       "        [0.2398, 0.3975, 0.3628]])"
      ]
     },
     "execution_count": 14,
     "metadata": {},
     "output_type": "execute_result"
    }
   ],
   "source": []
  },
  {
   "cell_type": "code",
   "execution_count": 17,
   "metadata": {},
   "outputs": [],
   "source": [
    "size = []\n",
    "\n",
    "for i in range(n):\n",
    "    size.append(torch.norm(mat[0:i,:], p = \"fro\").item())"
   ]
  },
  {
   "cell_type": "code",
   "execution_count": 25,
   "metadata": {},
   "outputs": [
    {
     "data": {
      "text/plain": [
       "<Axes: xlabel='index', ylabel='z'>"
      ]
     },
     "execution_count": 25,
     "metadata": {},
     "output_type": "execute_result"
    },
    {
     "data": {
      "image/png": "[encoded data removed]",
      "text/plain": [
       "<Figure size 640x480 with 1 Axes>"
      ]
     },
     "metadata": {},
     "output_type": "display_data"
    }
   ],
   "source": [
    "df = pd.DataFrame({\"index\": list(range(n)), \"size\": size})\n",
    "df = df.assign(z = df[\"size\"]/df[\"index\"])\n",
    "\n",
    "sns.scatterplot(data = df, x = \"index\", y = \"z\", s = 0.5)"
   ]
  }
 ],
 "metadata": {
  "kernelspec": {
   "display_name": "Python 3",
   "language": "python",
   "name": "python3"
  },
  "language_info": {
   "codemirror_mode": {
    "name": "ipython",
    "version": 3
   },
   "file_extension": ".py",
   "mimetype": "text/x-python",
   "name": "python",
   "nbconvert_exporter": "python",
   "pygments_lexer": "ipython3",
   "version": "3.12.5"
  }
 },
 "nbformat": 4,
 "nbformat_minor": 2
}
