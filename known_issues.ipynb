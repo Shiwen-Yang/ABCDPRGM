{
 "cells": [
  {
   "cell_type": "code",
   "execution_count": null,
   "metadata": {},
   "outputs": [
    {
     "name": "stdout",
     "output_type": "stream",
     "text": [
      "cuda\n"
     ]
    }
   ],
   "source": [
    "import torch\n",
    "import pandas as pd\n",
    "from tqdm import tqdm as tm\n",
    "from src import Simulation as sim\n",
    "from src import Dir_Reg as DR\n",
    "from src import ABC_Reg\n",
    "from src import Align\n",
    "\n",
    "device = torch.device('cuda') if torch.cuda.is_available() else torch.device('cpu')\n",
    "device = torch.device(\"mps\") if torch.backends.mps.is_available() else device\n",
    "\n",
    "print(device)"
   ]
  },
  {
   "cell_type": "code",
   "execution_count": 2,
   "metadata": {},
   "outputs": [],
   "source": [
    "# we want to investigate what happens to our estimation, when we use the correct model, but misspecify the dimension. \n",
    "# 1. generate some synthetic data with 8 dimensions\n",
    "# 2. first do full oracle with the correct dimension to get base line\n",
    "# 3. then embed the graph in lower dimension, run regression, and then compare result to full oracle"
   ]
  },
  {
   "cell_type": "code",
   "execution_count": 5,
   "metadata": {},
   "outputs": [
    {
     "name": "stdout",
     "output_type": "stream",
     "text": [
      "0.0\n",
      "0.02\n",
      "0.03\n",
      "0.05\n",
      "0.07\n",
      "0.08\n",
      "0.1\n",
      "0.12\n",
      "0.13\n",
      "0.15\n",
      "0.17\n",
      "0.18\n",
      "0.2\n",
      "0.22\n",
      "0.23\n",
      "0.25\n",
      "0.27\n",
      "0.28\n",
      "0.3\n",
      "0.32\n",
      "0.33\n",
      "0.35\n",
      "0.37\n",
      "0.38\n",
      "0.4\n",
      "0.42\n",
      "0.43\n",
      "0.45\n",
      "0.47\n",
      "0.48\n",
      "0.5\n",
      "0.52\n",
      "0.53\n",
      "0.55\n",
      "0.57\n",
      "0.58\n",
      "0.6\n",
      "0.62\n",
      "0.63\n",
      "0.65\n",
      "0.67\n",
      "0.68\n",
      "0.7\n",
      "0.72\n",
      "0.73\n",
      "0.75\n",
      "0.77\n",
      "0.78\n",
      "0.8\n",
      "0.82\n"
     ]
    }
   ],
   "source": [
    "p, K, T = 6, 6, 2\n",
    "# alpha_0 = torch.ones(K, p)*2\n",
    "alpha_0 = torch.eye(p)*9 + 1\n",
    "# alpha_0 = torch.kron(torch.eye(int(p/2))*9 + 1, torch.ones(2))\n",
    "\n",
    "model = sim.ABC(time = T,\n",
    "        nodes = 30,\n",
    "        beta = [1, 1, -4, 5],\n",
    "        alpha_0 = alpha_0)\n",
    "\n",
    "seed_list = list(range(50))\n",
    "n_list = list(range(1500, 6001, 1500))\n",
    "p0_list = list(range(2, 7))\n",
    "\n",
    "# Initialize an empty list to store results\n",
    "results = []\n",
    "for seed in seed_list:\n",
    "    torch.manual_seed(seed)\n",
    "    for n in n_list:\n",
    "        for p0 in p0_list:\n",
    "            # Update model settings\n",
    "            model.update_settings(nodes = n)\n",
    "            # Initialize estimation\n",
    "            estimate = ABC_Reg.est(two_lat_pos = model.synth_data['lat_pos'],\n",
    "                    two_adj_mat = model.synth_data['obs_adj'],\n",
    "                    groups = K,\n",
    "                    )\n",
    "            # Perform estimation by specifying mode and embedding dimension p0\n",
    "            estimate.specify_mode('NO', fit = True, embed_dim = p0)\n",
    "            \n",
    "            # Compute beta_est and info_lost\n",
    "            beta_est = DR.fit.proj_beta(estimate.fitted.est_result[\"estimate\"], DR.fit.gen_constraint(p0+1, True)).tolist()\n",
    "            info_lost = estimate.fitted.est_result[\"info_lost\"]\n",
    "            \n",
    "            # Create a dictionary for the current iteration\n",
    "            result = {\n",
    "                'seed': seed,\n",
    "                'n': n,\n",
    "                'p0': p0,\n",
    "                'beta1': beta_est[0],\n",
    "                'beta2': beta_est[1],\n",
    "                'beta3': beta_est[2],\n",
    "                'beta4': beta_est[3],\n",
    "                'info_lost': info_lost  # Optional: Include if you want to store this value\n",
    "            }\n",
    "            # Append the result to the list\n",
    "            results.append(result)\n",
    "\n",
    "# Convert the list of dictionaries to a pandas DataFrame\n",
    "df = pd.DataFrame(results)\n",
    "df.to_csv(r\"simulated_data\\dimension_robustness\\robustness.csv\")  "
   ]
  },
  {
   "cell_type": "code",
   "execution_count": 3,
   "metadata": {},
   "outputs": [],
   "source": [
    "torch.manual_seed(5)\n",
    "\n",
    "p, K, T, n = 6, 3, 2, 6000\n",
    "alpha_0 = torch.ones(K, p)*2\n",
    "# alpha_0 = torch.eye(p)*9 + 1\n",
    "\n",
    "model = sim.ABC(time = T,\n",
    "                nodes = n,\n",
    "                beta = [1, 1, -4, 5],\n",
    "                alpha_0 = alpha_0)"
   ]
  },
  {
   "cell_type": "code",
   "execution_count": 4,
   "metadata": {},
   "outputs": [],
   "source": [
    "temp = ABC_Reg.est(two_lat_pos = model.synth_data['lat_pos'],\n",
    "                   two_adj_mat = model.synth_data['obs_adj'],\n",
    "                   groups = K,\n",
    "                   )"
   ]
  },
  {
   "cell_type": "code",
   "execution_count": 5,
   "metadata": {},
   "outputs": [
    {
     "data": {
      "text/plain": [
       "tensor([ 0.9733,  0.8217, -4.2562,  4.3985])"
      ]
     },
     "execution_count": 5,
     "metadata": {},
     "output_type": "execute_result"
    }
   ],
   "source": [
    "temp.specify_mode('OL', fit = True)\n",
    "DR.fit.proj_beta(temp.fitted.est_result[\"estimate\"], DR.fit.gen_constraint(p, True))"
   ]
  },
  {
   "cell_type": "code",
   "execution_count": 6,
   "metadata": {},
   "outputs": [
    {
     "name": "stdout",
     "output_type": "stream",
     "text": [
      "0.01733333333333331\n"
     ]
    },
    {
     "data": {
      "text/plain": [
       "tensor([ 0.4031,  0.3385, -1.7095,  0.5608])"
      ]
     },
     "execution_count": 6,
     "metadata": {},
     "output_type": "execute_result"
    }
   ],
   "source": [
    "p_0 = 3\n",
    "temp.specify_mode('NO', fit = True, embed_dim = p_0)\n",
    "print(temp.fitted.est_result[\"info_lost\"])\n",
    "DR.fit.proj_beta(temp.fitted.est_result[\"estimate\"], DR.fit.gen_constraint(p_0+1, True))"
   ]
  },
  {
   "cell_type": "code",
   "execution_count": 7,
   "metadata": {},
   "outputs": [
    {
     "name": "stdout",
     "output_type": "stream",
     "text": [
      "0.09533333333333338\n"
     ]
    },
    {
     "data": {
      "text/plain": [
       "tensor([ 0.3947,  0.0186, -1.5651,  0.8212])"
      ]
     },
     "execution_count": 7,
     "metadata": {},
     "output_type": "execute_result"
    }
   ],
   "source": [
    "p_0 = 4\n",
    "temp.specify_mode('NO', fit = True, embed_dim = p_0)\n",
    "print(temp.fitted.est_result[\"info_lost\"])\n",
    "DR.fit.proj_beta(temp.fitted.est_result[\"estimate\"], DR.fit.gen_constraint(p_0+1, True))"
   ]
  },
  {
   "cell_type": "code",
   "execution_count": 8,
   "metadata": {},
   "outputs": [
    {
     "name": "stdout",
     "output_type": "stream",
     "text": [
      "0.2613333333333333\n"
     ]
    },
    {
     "data": {
      "text/plain": [
       "tensor([ 0.4584,  0.2393, -2.2085, -3.3477])"
      ]
     },
     "execution_count": 8,
     "metadata": {},
     "output_type": "execute_result"
    }
   ],
   "source": [
    "p_0 = 5\n",
    "temp.specify_mode('NO', fit = True, embed_dim = p_0)\n",
    "print(temp.fitted.est_result[\"info_lost\"])\n",
    "DR.fit.proj_beta(temp.fitted.est_result[\"estimate\"], DR.fit.gen_constraint(p_0+1, True))\n"
   ]
  },
  {
   "cell_type": "code",
   "execution_count": 9,
   "metadata": {},
   "outputs": [
    {
     "name": "stdout",
     "output_type": "stream",
     "text": [
      "0.43066666666666664\n"
     ]
    },
    {
     "data": {
      "text/plain": [
       "tensor([ 0.6828,  0.8133, -3.9691, -3.2112])"
      ]
     },
     "execution_count": 9,
     "metadata": {},
     "output_type": "execute_result"
    }
   ],
   "source": [
    "p_0 = 6\n",
    "temp.specify_mode('NO', fit = True, embed_dim = p_0)\n",
    "print(temp.fitted.est_result[\"info_lost\"])\n",
    "DR.fit.proj_beta(temp.fitted.est_result[\"estimate\"], DR.fit.gen_constraint(p_0+1, True))"
   ]
  },
  {
   "cell_type": "code",
   "execution_count": 10,
   "metadata": {},
   "outputs": [
    {
     "name": "stdout",
     "output_type": "stream",
     "text": [
      "0.7296666666666667\n"
     ]
    },
    {
     "data": {
      "text/plain": [
       "tensor([ 0.9345,  1.1643, -3.5133,  5.0706])"
      ]
     },
     "execution_count": 10,
     "metadata": {},
     "output_type": "execute_result"
    }
   ],
   "source": [
    "p_0 = 7\n",
    "temp.specify_mode('NO', fit = True, embed_dim = p_0)\n",
    "print(temp.fitted.est_result[\"info_lost\"])\n",
    "DR.fit.proj_beta(temp.fitted.est_result[\"estimate\"], DR.fit.gen_constraint(p_0+1, True))"
   ]
  }
 ],
 "metadata": {
  "kernelspec": {
   "display_name": "Python 3",
   "language": "python",
   "name": "python3"
  },
  "language_info": {
   "codemirror_mode": {
    "name": "ipython",
    "version": 3
   },
   "file_extension": ".py",
   "mimetype": "text/x-python",
   "name": "python",
   "nbconvert_exporter": "python",
   "pygments_lexer": "ipython3",
   "version": "3.12.5"
  }
 },
 "nbformat": 4,
 "nbformat_minor": 2
}
