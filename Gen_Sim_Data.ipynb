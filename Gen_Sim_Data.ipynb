{
 "cells": [
  {
   "cell_type": "code",
   "execution_count": 1,
   "metadata": {},
   "outputs": [
    {
     "name": "stdout",
     "output_type": "stream",
     "text": [
      "cuda\n"
     ]
    }
   ],
   "source": [
    "import numpy as np\n",
    "import matplotlib.pyplot as plt\n",
    "import seaborn as sns\n",
    "import torch\n",
    "from torch.distributions import Dirichlet, Bernoulli, Uniform\n",
    "import pandas as pd\n",
    "from tqdm import tqdm as tm\n",
    "\n",
    "from src import Simulation as sim\n",
    "from src import Dir_Reg\n",
    "from src import Align\n",
    "from src import visualize_latent_space as vls\n",
    "\n",
    "device = torch.device('cuda') if torch.cuda.is_available() else torch.device('cpu')\n",
    "device = torch.device(\"mps\") if torch.backends.mps.is_available() else device\n",
    "\n",
    "print(device)"
   ]
  },
  {
   "cell_type": "markdown",
   "metadata": {},
   "source": [
    "Generate data sets that illustrate how the parameters of the model influence the behavior of the model. \n",
    "<br>\n",
    "Settings:\n",
    "<br>\n",
    "Length of Time: 20 or 200\n",
    "<br>\n",
    "Embedding Dimemsion: 2\n",
    "<br>\n",
    "Number of Nodes: 1200\n",
    "<br>\n",
    "Parameters:  (1, 1, 5, 5), (1, 1, 2, 5), (1, 1, -2, 5), (1, 1, -5, 5)\n",
    "<br>\n",
    "Initial Distribution: Dir(1, 1, 1)\n"
   ]
  },
  {
   "cell_type": "code",
   "execution_count": null,
   "metadata": {},
   "outputs": [],
   "source": [
    "torch.manual_seed(4)\n",
    "\n",
    "T, n, alpha_0 = 20, 30, [[1,1,1], [1,1,1], [1,1,1]]\n",
    "\n",
    "model_pos_2 = sim.ABC(time = T,\n",
    "                    nodes = n,\n",
    "                    beta = [1, 1, 2, 5],\n",
    "                    alpha_0 = alpha_0)\n",
    "model_pos_1 = sim.ABC(time = T*10,\n",
    "                    nodes = n,\n",
    "                    beta = [1, 1, 1 , 5],\n",
    "                    alpha_0 = alpha_0)\n",
    "model_neg_2 = sim.ABC(time = T*10,\n",
    "                    nodes = n,\n",
    "                    beta = [1, 1, -2, 5],\n",
    "                    alpha_0 = alpha_0)\n",
    "model_neg_5 = sim.ABC(time = T,\n",
    "                    nodes = n,\n",
    "                    beta = [1, 1, -5, 5],\n",
    "                    alpha_0 = alpha_0)"
   ]
  },
  {
   "cell_type": "code",
   "execution_count": null,
   "metadata": {},
   "outputs": [],
   "source": [
    "sim.ABC_Monte_Carlo.lat_pos(model_pos_2.synth_data[\"lat_pos\"], 3).to_csv(r\"simulated_data/time_vs_lat_pos/pos_2_sample.csv\")\n",
    "sim.ABC_Monte_Carlo.lat_pos(model_pos_1.synth_data[\"lat_pos\"], 3).to_csv(r\"simulated_data/time_vs_lat_pos/pos_1_sample.csv\")\n",
    "sim.ABC_Monte_Carlo.lat_pos(model_neg_2.synth_data[\"lat_pos\"], 3).to_csv(r\"simulated_data/time_vs_lat_pos/neg_2_sample.csv\")\n",
    "sim.ABC_Monte_Carlo.lat_pos(model_neg_5.synth_data[\"lat_pos\"], 3).to_csv(r\"simulated_data/time_vs_lat_pos/neg_5_sample.csv\")"
   ]
  },
  {
   "cell_type": "markdown",
   "metadata": {},
   "source": [
    "Below we generate the synthetic data set that shows how the latent position in ABCDPRGM evolves through time under different settings.\n",
    "\n",
    "Let $\\widehat{B} \\in \\mathbb{R}^{q \\times p}$ be the MLE that corresponds to the design matrix $X \\otimes I_p$, and $\\tilde{\\beta} = (C^T C)^{-1} C^T \\widehat{B}$. Let $\\widehat{\\beta}$ be the MLE that corresponds to the design matrix $(X \\otimes I_p)C$.\n",
    "\n",
    "We first do Monte Carlo simulations to verify the asymptotic behavior of $\\widehat{B}$ and $\\tilde{\\beta}$. "
   ]
  },
  {
   "cell_type": "code",
   "execution_count": 5,
   "metadata": {},
   "outputs": [
    {
     "name": "stderr",
     "output_type": "stream",
     "text": [
      "tensor(1500): 100%|██████████| 50/50 [00:16<00:00,  3.02it/s]\n",
      "tensor(2250): 100%|██████████| 50/50 [00:22<00:00,  2.23it/s]\n",
      "tensor(3000): 100%|██████████| 50/50 [00:32<00:00,  1.55it/s]\n",
      "tensor(3750): 100%|██████████| 50/50 [00:45<00:00,  1.09it/s]\n",
      "tensor(4500): 100%|██████████| 50/50 [01:00<00:00,  1.21s/it]\n",
      "tensor(5250): 100%|██████████| 50/50 [01:16<00:00,  1.53s/it]\n",
      "tensor(6000): 100%|██████████| 50/50 [01:34<00:00,  1.89s/it]\n"
     ]
    }
   ],
   "source": [
    "\"\"\" no_oracle option is for the RGD stuff, which is still somewhat problematic. It shouldn't be turned on. \"\"\"\n",
    "N = 50\n",
    "n_set = torch.arange(1500, 6001, 750)\n",
    "beta = [1,1,-4, 5]\n",
    "alpha_0 = [[10, 1, 1], [1, 10, 1], [1, 1, 10]]\n",
    "OL, OA, NO = True, True, True\n",
    "ntypes = OL + OA + NO\n",
    "\n",
    "temp = sim.ABC_Monte_Carlo.consistency_T2(number_of_iterations = N, \n",
    "                                          nodes_set = n_set,\n",
    "                                          beta = beta,\n",
    "                                          alpha_0 = alpha_0,\n",
    "                                          seeded = True,\n",
    "                                          constrained = False,\n",
    "                                          oracle_lat_pos = OL,\n",
    "                                          oracle_align = OA,\n",
    "                                          no_oracle = NO)"
   ]
  },
  {
   "cell_type": "code",
   "execution_count": null,
   "metadata": {},
   "outputs": [],
   "source": [
    "temp.MC_result.est.to_csv(r\"simulated_data/emp_var_vs_obs_var/B_oracle.csv\")\n",
    "temp.MC_result.fish.to_csv(r\"simulated_data/emp_var_vs_obs_var/B_fish.csv\")"
   ]
  },
  {
   "cell_type": "code",
   "execution_count": null,
   "metadata": {},
   "outputs": [],
   "source": [
    "model = sim.ABC(time = 2,\n",
    "            nodes = 3,\n",
    "            beta = [1,1,-4, 5],\n",
    "            alpha_0 = [[10, 1, 1], [1, 10, 1], [1, 1, 10]])\n",
    "C = model.settings.C\n",
    "\n",
    "res = torch.tensor(temp.MC_result.est[\"B_est\"]).reshape(N*ntypes* len(n_set), 21).T\n",
    "\n",
    "\n",
    "df = pd.DataFrame(torch.linalg.solve(C.T @ C, C.T @ res).T)\n",
    "\n",
    "\n",
    "df.columns = [\"dim_\" + str(i) for i in range(4)]\n",
    "sns.histplot(df[\"dim_3\"])\n"
   ]
  },
  {
   "cell_type": "code",
   "execution_count": null,
   "metadata": {},
   "outputs": [],
   "source": [
    "sns.scatterplot(data = temp.MC_result.est, x = \"nodes\", y = \"info_lost\")"
   ]
  }
 ],
 "metadata": {
  "kernelspec": {
   "display_name": "Python 3",
   "language": "python",
   "name": "python3"
  },
  "language_info": {
   "codemirror_mode": {
    "name": "ipython",
    "version": 3
   },
   "file_extension": ".py",
   "mimetype": "text/x-python",
   "name": "python",
   "nbconvert_exporter": "python",
   "pygments_lexer": "ipython3",
   "version": "3.11.7"
  }
 },
 "nbformat": 4,
 "nbformat_minor": 2
}
