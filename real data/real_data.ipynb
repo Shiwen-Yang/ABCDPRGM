{
 "cells": [
  {
   "cell_type": "code",
   "execution_count": 24,
   "metadata": {},
   "outputs": [],
   "source": [
    "import pandas as pd\n",
    "import seaborn as sns\n",
    "import numpy as np\n",
    "import igraph as ig\n",
    "import torch\n",
    "import plotly.express as px\n",
    "from src import Simulation as sim\n",
    "from src import Dir_Reg\n",
    "from src import Align\n",
    "from src import visualize_latent_space as vls\n",
    "from src import ABC_Reg\n",
    "\n",
    "device = torch.device('cuda') if torch.cuda.is_available() else torch.device('cpu')"
   ]
  },
  {
   "cell_type": "code",
   "execution_count": 2,
   "metadata": {},
   "outputs": [],
   "source": [
    "#a function that reads the dataset\n",
    "def read_game_data(path):\n",
    "    game_data = pd.read_json(path)\n",
    "    game_data_copy = game_data.explode(\"teams\").explode(\"teams\")\n",
    "    \n",
    "    team_data = pd.json_normalize(game_data_copy[\"teams\"])\n",
    "    #after slicing, the index remains, so reset_index is needed. without \"drop = True\", we get two new columns of indices \n",
    "    team_0 = team_data[0: :2].reset_index(drop = True).add_suffix(\"_0\")\n",
    "    team_1 = team_data[1: :2].reset_index(drop = True).add_suffix(\"_1\")\n",
    "    #binds the sliced df together\n",
    "    dataset = pd.concat([game_data.drop(columns=\"teams\"), team_0, team_1], axis = 1)\n",
    "    dataset[\"started_at\"] = pd.to_datetime(dataset[\"started_at\"])\n",
    "    dataset[\"finished_at\"] = pd.to_datetime(dataset[\"finished_at\"])\n",
    "    dataset.sort_values(by = \"started_at\")\n",
    "    dataset = dataset.drop(columns = \"map_id\")\n",
    "    dataset = dataset.rename(columns = {\"profile_id_0\": \"player_0\", \n",
    "                              \"profile_id_1\": \"player_1\", \n",
    "                              \"civilization_1\": \"civ_1\", \n",
    "                              \"civilization_0\": \"civ_0\", \n",
    "                              \"civilization_randomized_0\": \"rand_civ_0\", \n",
    "                              \"civilization_randomized_1\": \"rand_civ_1\"})\n",
    "    return(dataset)\n",
    "\n",
    "def map_player_ids(df, player_col_1, player_col_2):\n",
    "    \"\"\"\n",
    "    Maps player IDs in a DataFrame to unique consecutive integers.\n",
    "\n",
    "    Parameters:\n",
    "    df (pd.DataFrame): DataFrame containing player match data.\n",
    "    player_col_1 (str): Name of the first player column.\n",
    "    player_col_2 (str): Name of the second player column.\n",
    "\n",
    "    Returns:\n",
    "    dict: A dictionary mapping player IDs to unique consecutive integers.\n",
    "    list: A list of tuples representing the mapped edge list.\n",
    "    \"\"\"\n",
    "    # Get unique players in the DataFrame\n",
    "    unique_players = pd.unique(df[[player_col_1, player_col_2]].values.ravel())\n",
    "\n",
    "    # Create a mapping from player IDs to consecutive integers\n",
    "    player_id_to_index = {player_id: index for index, player_id in enumerate(unique_players)}\n",
    "\n",
    "    # Map the player IDs in the edge list to consecutive integers\n",
    "    mapped_edges = [(player_id_to_index[row[player_col_1]], player_id_to_index[row[player_col_2]]) for _, row in df.iterrows()]\n",
    "\n",
    "    return player_id_to_index, mapped_edges\n",
    "\n"
   ]
  },
  {
   "cell_type": "code",
   "execution_count": 3,
   "metadata": {},
   "outputs": [],
   "source": [
    "#load the dataset\n",
    "# path = r\"C:\\Users\\yangs\\Downloads\\games_qm_1v1_2023_q2.json\\games_qm_1v1_2023_q2.json\"\n",
    "path = r\"C:\\Users\\yangs\\Downloads\\games_rm_1v1_s5.json\\games_rm_1v1_s5.json\"\n",
    "dataset = read_game_data(path)"
   ]
  },
  {
   "cell_type": "code",
   "execution_count": 37,
   "metadata": {},
   "outputs": [],
   "source": [
    "temp = dataset.loc[:,[\"player_0\", \"player_1\", \"game_id\", \"started_at\", \"server\"]]\n",
    "\n",
    "temp = temp[temp[\"started_at\"].between(\"2023-06-16\", \"2023-07-16\")]\n",
    "player_0_counts = temp[\"player_0\"].value_counts()\n",
    "player_1_counts = temp[\"player_1\"].value_counts()\n",
    "player_counts = player_0_counts.add(player_1_counts, fill_value = 0).astype(int)\n",
    "\n",
    "player_counts = player_counts.reset_index()\n",
    "player_counts.columns = [\"Player_ID\", \"Match_Count\"]\n",
    "\n",
    "freq_player_wk_1 = player_counts[player_counts[\"Match_Count\"] > 10][\"Player_ID\"].to_list()\n",
    "\n",
    "freq_subset = temp[temp[\"player_0\"].isin(freq_player_wk_1) & temp[\"player_1\"].isin(freq_player_wk_1)]\n",
    "freq_subset = freq_subset.loc[:, [\"player_0\", \"player_1\"]].drop_duplicates()\n",
    "\n",
    "\n",
    "player_id_to_index, mapped_edges = map_player_ids(freq_subset, 'player_0', 'player_1')\n",
    "g = ig.Graph(edges = mapped_edges, directed = False)\n",
    "\n",
    "A0 = torch.Tensor(g.get_adjacency().data)"
   ]
  },
  {
   "cell_type": "code",
   "execution_count": 36,
   "metadata": {},
   "outputs": [],
   "source": [
    "temp = dataset.loc[:,[\"player_0\", \"player_1\", \"game_id\", \"started_at\", \"server\"]]\n",
    "\n",
    "temp = temp[temp[\"started_at\"].between(\"2023-07-16\", \"2023-08-16\")]\n",
    "player_0_counts = temp[\"player_0\"].value_counts()\n",
    "player_1_counts = temp[\"player_1\"].value_counts()\n",
    "player_counts = player_0_counts.add(player_1_counts, fill_value = 0).astype(int)\n",
    "\n",
    "player_counts = player_counts.reset_index()\n",
    "player_counts.columns = [\"Player_ID\", \"Match_Count\"]\n",
    "\n",
    "freq_player_wk_1 = player_counts[player_counts[\"Match_Count\"] > 10][\"Player_ID\"].to_list()\n",
    "\n",
    "freq_subset = temp[temp[\"player_0\"].isin(freq_player_wk_1) & temp[\"player_1\"].isin(freq_player_wk_1)]\n",
    "freq_subset = freq_subset.loc[:, [\"player_0\", \"player_1\"]].drop_duplicates()\n",
    "\n",
    "\n",
    "player_id_to_index, mapped_edges = map_player_ids(freq_subset, 'player_0', 'player_1')\n",
    "g = ig.Graph(edges = mapped_edges, directed = False)\n",
    "\n",
    "A1 = torch.Tensor(g.get_adjacency().data)\n"
   ]
  }
 ],
 "metadata": {
  "kernelspec": {
   "display_name": "Python 3",
   "language": "python",
   "name": "python3"
  },
  "language_info": {
   "codemirror_mode": {
    "name": "ipython",
    "version": 3
   },
   "file_extension": ".py",
   "mimetype": "text/x-python",
   "name": "python",
   "nbconvert_exporter": "python",
   "pygments_lexer": "ipython3",
   "version": "3.11.7"
  }
 },
 "nbformat": 4,
 "nbformat_minor": 2
}
