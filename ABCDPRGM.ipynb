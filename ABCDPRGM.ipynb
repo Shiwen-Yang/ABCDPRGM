{
 "cells": [
  {
   "cell_type": "code",
   "execution_count": null,
   "metadata": {},
   "outputs": [],
   "source": [
    "import sys\n",
    "import numpy as np\n",
    "import matplotlib.pyplot as plt\n",
    "import seaborn as sns\n",
    "import torch\n",
    "from torch.distributions import Dirichlet, Bernoulli, Uniform\n",
    "import pandas as pd\n",
    "import tqdm as tm\n",
    "\n",
    "from src.alignment import *\n",
    "from src.RGD import *\n",
    "from src.model_gen import *\n",
    "from src.visualize_latent_space import *\n",
    "from src.Dirichlet_Reg import *\n",
    "\n",
    "# from sklearn.decomposition import TruncatedSVD as psvd\n",
    "# import plotly.express as px\n",
    "# from torch import nn\n",
    "# from torch.utils.data import DataLoader\n",
    "# from torchvision import datasets\n",
    "# from torchvision.transforms import ToTensor\n",
    "# from numpy import random as rd\n",
    "# from numpy import arange as seq\n",
    "device = torch.device('cuda') if torch.cuda.is_available() else torch.device('cpu')"
   ]
  },
  {
   "cell_type": "code",
   "execution_count": null,
   "metadata": {},
   "outputs": [],
   "source": [
    "#########################################################################################################################################################################\n",
    "#########################################################################################################################################################################\n",
    "#########################################################################################################################################################################\n",
    "#For easier simulation\n",
    "#########################################################################################################################################################################\n",
    "#########################################################################################################################################################################\n",
    "#########################################################################################################################################################################\n",
    "class PAIRs:\n",
    "    def __init__(self, settings, oracle = False, two_crutch = False, no_crutch = False):\n",
    " \n",
    "        self.settings = settings\n",
    "        self.initialization = settings.rand_initialization\n",
    "\n",
    "        self.lat_0 = init_Z(self.settings)\n",
    "        self.adj_0 = gen_Y(self.lat_0)\n",
    "\n",
    "        self.lat_1 = next_Z(self.adj_0, self.lat_0, self.settings)\n",
    "        self.adj_1 = gen_Y(self.lat_1)\n",
    "\n",
    "        #the oracle stuff\n",
    "        if oracle:\n",
    "            self.pred_ora = gen_X(Y = self.adj_0, \n",
    "                                Z = self.lat_0)\n",
    "            self.resp_ora = self.lat_1\n",
    "\n",
    "\n",
    "        #the two-crutch stuff\n",
    "        if two_crutch:\n",
    "            lat_cru_0 = orthogonal_procrustes(reference=self.lat_0,\n",
    "                                              need_embed_align=self.adj_0,\n",
    "                                              dim = (self.settings.latent_space_dim - 1))\n",
    "            self.pred_cru = gen_X(Y = self.adj_0, \n",
    "                                  Z = lat_cru_0)\n",
    "            self.resp_cru = orthogonal_procrustes(reference = self.lat_1,\n",
    "                                                  need_embed_align = self.adj_1,\n",
    "                                                  dim = (self.settings.latent_space_dim - 1))\n",
    "        \n",
    "        #the convalescent stuff\n",
    "        if no_crutch:\n",
    "            lat_con_0 = GD_RDPG(self.adj_0, \n",
    "                                    X = self.initialization,\n",
    "                                    L = 40)\n",
    "            self.pred_noc = gen_X(Y = self.adj_0, \n",
    "                                Z = lat_con_0)\n",
    "            self.resp_noc = GD_RDPG(self.adj_1,\n",
    "                                    X = lat_con_0, \n",
    "                                    L = 40)\n"
   ]
  },
  {
   "cell_type": "code",
   "execution_count": null,
   "metadata": {},
   "outputs": [],
   "source": [
    "#########################################################################################################################################################################\n",
    "#########################################################################################################################################################################\n",
    "#########################################################################################################################################################################\n",
    "#Actual simulation\n",
    "#########################################################################################################################################################################\n",
    "#########################################################################################################################################################################\n",
    "#########################################################################################################################################################################\n",
    "\n",
    "def dir_reg_simulation(number_of_nodes, cs = current_settings):\n",
    "\n",
    "    non_specifics = [\"seed\", \"nodes\", \"cru_2_info_lost\", \"cru_0_info_lost\"]\n",
    "    \n",
    "    b_len = cs.constraint.shape[1]\n",
    "\n",
    "    actual_beta = [\"beta_\"+ str(i) + \"_real\" for i in range(1,(b_len+1))]\n",
    "\n",
    "    L_oracle = [\"L_\" + \"ora_\" + \"beta_\" + str(i) + \"_est\" for i in range(1,b_len)]\n",
    "    L_cru_2  = [\"L_\" + \"cru_2_\" + \"beta_\" + str(i) + \"_est\" for i in range(1,b_len)]\n",
    "    L_cru_0  = [\"L_\" + \"cru_0_\" + \"beta_\" + str(i) + \"_est\" for i in range(1,b_len)]\n",
    "\n",
    "    oracle_beta_est = [\"ora_\" + \"beta_\"+ str(i) + \"_est\" for i in range(1,(b_len+1))]\n",
    "    cru_2_beta_est = [\"cru_2_\" + \"beta_\" + str(i) + \"_est\" for i in range(1,(b_len+1))]\n",
    "    cru_0_beta_est = [\"cru_0_\" + \"beta_\" + str(i) + \"_est\" for i in range(1,(b_len+1))]\n",
    "\n",
    "    oracle_fish_est = [\"oracle_\" + \"fish_\" + str(i) + \"_est\" for i in range(1, (b_len)**2+1)]\n",
    "    cru_2_fish_est = [\"cru_2_\" + \"fish_\" + str(i) + \"_est\" for i in range(1, (b_len)**2+1)]\n",
    "    cru_0_fish_est = [\"cru_0_\" + \"fish_\" + str(i) + \"_est\" for i in range(1, (b_len)**2+1)]\n",
    "\n",
    "    colnames = non_specifics + actual_beta + L_oracle + L_cru_2 + L_cru_0 + oracle_beta_est + cru_2_beta_est + cru_0_beta_est + oracle_fish_est + cru_2_fish_est + cru_0_fish_est\n",
    "    df = pd.DataFrame(columns= colnames)\n",
    "    b = cs.parameter_vec\n",
    "    B = cs.parameter_mat\n",
    "\n",
    "    for i in tm.tqdm(range(len(number_of_nodes)), desc = \"Processing\", unit = \"iteration\"):\n",
    "    # for i range(len(number_of_nodes)): #the version without progress bar\n",
    "        torch.manual_seed(i)\n",
    "        constraint = cs.constraint\n",
    "        n = number_of_nodes[i]\n",
    "        cs.change_node(n)\n",
    "\n",
    "        temp = PAIRs(settings = current_settings, oracle = True, two_crutch = True, no_crutch = True)\n",
    "\n",
    "        po = temp.pred_ora\n",
    "        ro = temp.resp_ora\n",
    "        pc = temp.pred_cru\n",
    "        rc = temp.resp_cru\n",
    "        pn = temp.pred_noc\n",
    "        rn = temp.resp_noc\n",
    "\n",
    "        oracle_results = Dir_NGD(po, ro, B, cs = cs)\n",
    "        cru_2_results = Dir_NGD(pc, rc, B, cs = cs)\n",
    "        cru_0_results = Dir_NGD(pn, rn, B,  cs =cs)\n",
    "\n",
    "        L_oracle_result = Dir_Linear_Initialization(po, ro)[:3]\n",
    "        L_cru_2_result = Dir_Linear_Initialization(pc, rc)[:3]\n",
    "        L_cru_0_result = Dir_Linear_Initialization(pn, rn)[:3]\n",
    "\n",
    "        oracle_beta_est_ = proj_beta(oracle_results[\"final_estimate\"], constraint.to(\"cpu\"))\n",
    "        cru_2_beta_est_ = proj_beta(cru_2_results[\"final_estimate\"], constraint.to(\"cpu\"))\n",
    "        cru_0_beta_est_ = proj_beta(cru_0_results[\"final_estimate\"], constraint.to(\"cpu\"))\n",
    "\n",
    "        oracle_fish_est_ = oracle_results[\"final_fisher_info\"].reshape(-1)\n",
    "        cru_2_fish_est_ = cru_2_results[\"final_fisher_info\"].reshape(-1)\n",
    "        cru_0_fish_est_ = cru_0_results[\"final_fisher_info\"].reshape(-1)\n",
    "\n",
    "        temp = torch.cat((torch.tensor([i, n, cru_2_results[\"ASE_info_lost\"], cru_0_results[\"ASE_info_lost\"]], dtype = float),\n",
    "                          b,\n",
    "                          L_oracle_result, \n",
    "                          L_cru_2_result,\n",
    "                          L_cru_0_result,\n",
    "                          oracle_beta_est_, \n",
    "                          cru_2_beta_est_,\n",
    "                          cru_0_beta_est_, \n",
    "                          oracle_fish_est_,\n",
    "                          cru_2_fish_est_,\n",
    "                          cru_0_fish_est_), dim = 0).numpy()\n",
    "        temp = pd.DataFrame(temp).T\n",
    "        temp.columns = colnames\n",
    "        df = pd.concat([df, temp], ignore_index= True)\n",
    "    return(df) "
   ]
  },
  {
   "cell_type": "code",
   "execution_count": null,
   "metadata": {},
   "outputs": [],
   "source": [
    "current_settings.change_node(9000)\n",
    "cs = current_settings\n",
    "C = cs.constraint\n",
    "B = cs.parameter_mat\n",
    "b = cs.parameter_vec\n",
    "\n",
    "temp = PAIRs(settings = cs, oracle = True, two_crutch = False, no_crutch = False)\n",
    "po = temp.pred_ora\n",
    "ro = temp.resp_ora\n",
    "# B_init = Dir_Linear_Initialization(po, ro)\n",
    "# cs.change_parameter_vec(B_init)\n",
    "C = cs.constraint\n",
    "B = cs.parameter_mat\n",
    "b = cs.parameter_vec\n",
    "\n",
    "cs.change_constraint(False)\n",
    "results_no_c = Dir_NGD(po, ro, B, cs = cs)\n",
    "\n",
    "cs.change_constraint(True)\n",
    "results_yes_c = Dir_NGD(po, ro, B, cs = cs)"
   ]
  },
  {
   "cell_type": "code",
   "execution_count": null,
   "metadata": {},
   "outputs": [],
   "source": [
    "proj_beta(results_no_c[\"final_estimate\"], C) , proj_beta(results_yes_c[\"final_estimate\"],C)"
   ]
  },
  {
   "cell_type": "code",
   "execution_count": null,
   "metadata": {},
   "outputs": [],
   "source": [
    "X1 = po[1,].unsqueeze(dim = 1)\n",
    "X1.T @ B, torch.kron(X1.T, torch.eye(3)) @ B.reshape(-1)"
   ]
  },
  {
   "cell_type": "code",
   "execution_count": null,
   "metadata": {},
   "outputs": [],
   "source": [
    "# #########################################################################################################################################################################\n",
    "# #########################################################################################################################################################################\n",
    "# #########################################################################################################################################################################\n",
    "# #Actual simulation DUPE\n",
    "# #########################################################################################################################################################################\n",
    "# #########################################################################################################################################################################\n",
    "# #########################################################################################################################################################################\n",
    "\n"
   ]
  },
  {
   "cell_type": "code",
   "execution_count": null,
   "metadata": {},
   "outputs": [],
   "source": [
    "mat = torch.tensor([[1,1,10], [1,10,1], [10,1,1]], dtype= torch.float).reshape(K, p)  #starting parameters for latent position\n",
    "# mat = torch.tensor([[36,2,27], [99,86,14], [72,18,34]], dtype= torch.float).reshape(K, p)/10\n",
    "current_settings.change_init_distr(mat)\n",
    "\n",
    "\n",
    "number_of_nodes = np.tile([1500, 3000, 4500, 6000, 7500, 9000, 10500, 12000], 1)\n",
    "simulation_results = dir_reg_simulation(number_of_nodes, cs = current_settings)\n",
    "simulation_results.to_csv(r\"C:\\Users\\yangs\\Desktop\\simulation_results_0317.csv\", index = False)"
   ]
  },
  {
   "cell_type": "code",
   "execution_count": null,
   "metadata": {},
   "outputs": [],
   "source": [
    "# starting_lat_parameter_mat = torch.tensor([[1,1,10], [1,10,1], [10,1,1]], dtype= torch.float).reshape(K, p)  #starting parameters for latent position\n",
    "# # starting_lat_parameter_mat = torch.tensor([[36,2,27], [99,86,14], [72,18,34]], dtype= torch.float).reshape(K, p)/10\n",
    "# current_settings.change_init_distr(starting_lat_parameter_mat)\n",
    "# current_settings.change_node(3000)\n",
    "\n",
    "\n",
    "# n = current_settings.nodes\n",
    "# Z0 = init_Z(current_settings)\n",
    "# Y0 = gen_Y(Z0)\n",
    "\n",
    "# init_dist = Uniform(0.2,0.8)\n",
    "# init_samp = init_dist.sample((n*K,)).reshape(n, 3)\n",
    "# # init_dist = Dirichlet(torch.tensor([[ 1.,  1., 10], [ 1., 10,  1.], [10,  1.,  1.]]))\n",
    "# # init_samp = init_dist.sample((int(n/K),)).reshape(n, K)\n",
    "\n",
    "# raw_ASE_0 = ASE(Y0, 2)\n",
    "# # standard = torch.kron(torch.eye(3), torch.ones(int(n/K))).T\n",
    "# # # std_dist = Dirichlet(torch.tensor([[36,2,27], [99,86,14], [72,18,34]], dtype= torch.float))\n",
    "# # # standard = std_dist.sample((int(n/K),)).reshape(n, K)\n",
    "# # std_align = orthogonal_procrustes(standard, raw_ASE_0, 2)\n",
    "\n",
    "# GD_est_0 = GD_RDPG(Y0, raw_ASE_0, 40, tol = 0.001)\n",
    "# Procrustes_est_0 = orthogonal_procrustes(Z0, Y0, 2)\n",
    "\n",
    "# Z1 = next_Z(Y0, Z0, current_settings)\n",
    "# Y1 = gen_Y(Z1)\n",
    "# GD_est_1 = GD_RDPG(Y1, GD_est_0[:,:2], 20, tol = 0.01)\n",
    "# # GD_est_1 = GD_RDPG(Y1, Z0, tol = 0.01)\n",
    "# Procrustes_est_1 = orthogonal_procrustes(Z1, Y1, 2)\n",
    "\n",
    "\n",
    "\n",
    "# lat_vis(raw_ASE_0, -1, col = \"green\")\n",
    "# lat_vis(Z0, -1, col = \"green\")\n",
    "# lat_vis(GD_est_0, -1, col = \"red\")\n",
    "# lat_vis(Procrustes_est_0, -1, col = \"blue\")\n",
    "\n",
    "\n",
    "# lat_vis(GD_est_1, -0.1, col = \"red\")\n",
    "# lat_vis(Z1, -0.1, col = \"blue\")"
   ]
  },
  {
   "cell_type": "code",
   "execution_count": null,
   "metadata": {},
   "outputs": [],
   "source": []
  },
  {
   "cell_type": "markdown",
   "metadata": {},
   "source": [
    "Simulation for the Riemannian GD"
   ]
  },
  {
   "cell_type": "code",
   "execution_count": null,
   "metadata": {},
   "outputs": [],
   "source": [
    "# A = torch.tensor([[1,1,10], [1,10,1], [10,1,1]], dtype= torch.float).reshape(K, 3)  #starting parameters for latent position\n",
    "N, n, p, K = 2, 15000, 4, 3\n",
    "A = torch.tensor([[1, 1, 10, 1], [1, 10, 1, 1], [10, 1, 1, 1]], dtype= torch.float).reshape(K, p)  #starting parameters for latent position\n",
    "# A = torch.tensor([[36,2,27, 15], [99,86,14, 66], [72,18,34, 88]], dtype= torch.float).reshape(K, p)/10  #starting parameters for latent position\n",
    "current_settings = Settings(time = N,\n",
    "                nodes = n,\n",
    "                latent_space_dim = p,\n",
    "                groups = K, \n",
    "                parameter_vec = torch.tensor([1,1,-4,5.0]),\n",
    "                starting_lat_parameter_mat = A,\n",
    "                constraint = True)\n",
    "\n",
    "temp = PAIRs(settings = current_settings, oracle = True, two_crutch = True, no_crutch = False)\n",
    "t1 = temp.lat_0\n",
    "t2 = temp.pred_cru\n",
    "t3 = ASE(temp.adj_0, p-1)\n",
    "# t1 = temp.lat_1\n",
    "# t2 = temp.resp_cru\n",
    "# t3 = ASE(temp.adj_1, p-1)\n"
   ]
  },
  {
   "cell_type": "code",
   "execution_count": null,
   "metadata": {},
   "outputs": [],
   "source": [
    "GD_result = Op_Riemannian_GD(t3, \"softplus\", 60)\n",
    "R = GD_result.align_mat"
   ]
  },
  {
   "cell_type": "code",
   "execution_count": null,
   "metadata": {},
   "outputs": [],
   "source": [
    "lat_vis(t2, -1, \"blue\")\n",
    "# lat_vis(t3, -1, \"red\")"
   ]
  },
  {
   "cell_type": "code",
   "execution_count": null,
   "metadata": {},
   "outputs": [],
   "source": [
    "lat_vis_3d(t3 @ R, t2, -1)"
   ]
  },
  {
   "cell_type": "code",
   "execution_count": null,
   "metadata": {},
   "outputs": [],
   "source": [
    "GD_result = Op_Riemannian_GD(t3, \"softplus\")\n",
    "R = GD_result.GD_one_step(torch.eye(p-1), 1)\n",
    "GD_result.update_parameter(50, 0.1)\n",
    "\n",
    "total_iter = 50500\n",
    "tracking_gradient = []\n",
    "tracking_loss = []\n",
    "\n",
    "iteration = 50000\n",
    "while iteration <= total_iter:\n",
    "    R = GD_result.GD_one_step(R, 1/25000)\n",
    "    tracking_gradient.append(torch.norm(GD_result.deriv_W_relu(R)))\n",
    "    tracking_loss.append(GD_result.simplex_loss_relu(t3 @ R))\n",
    "    iteration += 1\n",
    "sns.scatterplot(x = range(len(tracking_loss)), y = np.log(np.array(tracking_loss)), s = 0.5)\n",
    "sns.scatterplot(x = range(len(tracking_gradient)), y = np.log(np.array(tracking_gradient)), s = 0.5)"
   ]
  },
  {
   "cell_type": "code",
   "execution_count": 1,
   "metadata": {},
   "outputs": [],
   "source": [
    "from src.model_gen import *\n",
    "from src.visualize_latent_space import *\n",
    "from src.Dirichlet_Reg import *"
   ]
  },
  {
   "cell_type": "code",
   "execution_count": 2,
   "metadata": {},
   "outputs": [],
   "source": [
    "#default settings\n",
    "N, n, p, K = 2, 3000, 3, 3\n",
    "model = ABC_sim(time = N,\n",
    "                nodes = n,\n",
    "                latent_space_dim = p,\n",
    "                groups = K, \n",
    "                parameter_vec = torch.tensor([1,1,-5,5.0]),\n",
    "                starting_lat_parameter_mat = torch.tensor([[1, 1, 10], [1, 10, 1], [10, 1, 1]], dtype= torch.float).reshape(K, p))\n"
   ]
  },
  {
   "cell_type": "code",
   "execution_count": 3,
   "metadata": {},
   "outputs": [
    {
     "data": {
      "text/plain": [
       "(10, 3300, 3, 3)"
      ]
     },
     "execution_count": 3,
     "metadata": {},
     "output_type": "execute_result"
    }
   ],
   "source": [
    "model.change_node(3300)\n",
    "model.change_time(10)\n",
    "# model.change_init_distr(torch.tensor([[1, 1, 10, 1], [1, 10, 1, 1], [10, 1, 1, 1]], dtype= torch.float).reshape(3, 4))\n",
    "model.change_init_distr(torch.tensor([[1, 1, 10], [1, 10, 1], [10, 1, 1]], dtype= torch.float).reshape(3, 3))\n",
    "model.time, model.nodes, model.latent_space_dim, model.groups"
   ]
  },
  {
   "cell_type": "code",
   "execution_count": 4,
   "metadata": {},
   "outputs": [],
   "source": [
    "Z0 = model.synth_data[\"lat_pos\"][0,]\n",
    "Z1 = model.synth_data[\"lat_pos\"][1,]\n",
    "\n",
    "Y0 = model.synth_data[\"obs_adj\"][0,]\n",
    "Y1 = model.synth_data[\"obs_adj\"][1,]\n",
    "\n",
    "X0 = ABC_sim.gen_X(Y0, Z0, 3)"
   ]
  },
  {
   "cell_type": "code",
   "execution_count": 5,
   "metadata": {},
   "outputs": [
    {
     "name": "stdout",
     "output_type": "stream",
     "text": [
      "torch.Size([3290, 10])\n"
     ]
    }
   ],
   "source": [
    "temp = Dirichlet_GLM_log(X0, Z1)"
   ]
  },
  {
   "cell_type": "code",
   "execution_count": 6,
   "metadata": {},
   "outputs": [
    {
     "data": {
      "text/plain": [
       "{'final_estimate': tensor([[ 0.9879,  0.0000, -0.9879],\n",
       "         [ 0.0000,  0.9879, -0.9879],\n",
       "         [ 1.0150,  0.0000, -1.0150],\n",
       "         [ 0.0000,  1.0150, -1.0150],\n",
       "         [-4.9939,  0.0000,  4.9939],\n",
       "         [ 0.0000, -4.9939,  4.9939],\n",
       "         [ 4.9887,  4.9887,  1.9976]], device='cuda:0'),\n",
       " 'final_fisher_info': tensor([[ 84023.4922,  77950.6875, -25341.4629,    406.0025],\n",
       "         [ 77950.7266,  76617.8125, -24731.9219,    424.2420],\n",
       "         [-25341.4688, -24731.9238,  11251.2314,   1456.0413],\n",
       "         [   406.0027,    424.2419,   1456.0409,   3362.4604]]),\n",
       " 'ASE_info_lost': 0.00303030303030305}"
      ]
     },
     "execution_count": 6,
     "metadata": {},
     "output_type": "execute_result"
    }
   ],
   "source": [
    "temp.est_result"
   ]
  },
  {
   "cell_type": "code",
   "execution_count": 7,
   "metadata": {},
   "outputs": [
    {
     "data": {
      "text/plain": [
       "torch.Size([3300, 10])"
      ]
     },
     "execution_count": 7,
     "metadata": {},
     "output_type": "execute_result"
    }
   ],
   "source": [
    "L = torch.cat((Z1, X0), dim = 1)\n",
    "indicator = (L > 0 ) | (L <= 1)\n",
    "filtered = L[indicator.all(dim = 1)]\n",
    "filtered.shape"
   ]
  }
 ],
 "metadata": {
  "kernelspec": {
   "display_name": "Python 3",
   "language": "python",
   "name": "python3"
  },
  "language_info": {
   "codemirror_mode": {
    "name": "ipython",
    "version": 3
   },
   "file_extension": ".py",
   "mimetype": "text/x-python",
   "name": "python",
   "nbconvert_exporter": "python",
   "pygments_lexer": "ipython3",
   "version": "3.11.7"
  }
 },
 "nbformat": 4,
 "nbformat_minor": 2
}
