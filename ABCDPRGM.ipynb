{
 "cells": [
  {
   "cell_type": "code",
   "execution_count": 1,
   "metadata": {},
   "outputs": [],
   "source": [
    "import numpy as np\n",
    "import matplotlib.pyplot as plt\n",
    "import seaborn as sns\n",
    "import torch\n",
    "from torch.distributions import Dirichlet, Bernoulli, Uniform\n",
    "import pandas as pd\n",
    "from tqdm import tqdm as tm\n",
    "\n",
    "from src import Simulation as sim\n",
    "from src import Dir_Reg\n",
    "from src import Align\n",
    "from src import visualize_latent_space as vls\n"
   ]
  },
  {
   "cell_type": "code",
   "execution_count": 2,
   "metadata": {},
   "outputs": [
    {
     "name": "stdout",
     "output_type": "stream",
     "text": [
      "mps\n"
     ]
    }
   ],
   "source": [
    "device = torch.device('cuda') if torch.cuda.is_available() else torch.device('cpu')\n",
    "device = torch.device(\"mps\") if torch.backends.mps.is_available() else device\n",
    "print(device)"
   ]
  },
  {
   "cell_type": "markdown",
   "metadata": {},
   "source": [
    "Let $\\widehat{B} \\in \\mathbb{R}^{q \\times p}$ be the MLE that corresponds to the design matrix $X \\otimes I_p$, and $\\tilde{\\beta} = (C^T C)^{-1} C^T \\widehat{B}$. Let $\\widehat{\\beta}$ be the MLE that corresponds to the design matrix $(X \\otimes I_p)C$.\n",
    "\n",
    "We first do Monte Carlo simulations to verify the asymptotic behavior of $\\widehat{B}$ and $\\tilde{\\beta}$. "
   ]
  },
  {
   "cell_type": "code",
   "execution_count": 3,
   "metadata": {},
   "outputs": [],
   "source": [
    "torch.manual_seed(0)\n",
    "model = sim.ABC(time = 2,\n",
    "                nodes = 1200,\n",
    "                beta = [1,1,-4,5],\n",
    "                alpha_0 = [[1, 1, 10], [1, 10, 1], [10, 1, 1]])\n"
   ]
  },
  {
   "cell_type": "code",
   "execution_count": 4,
   "metadata": {},
   "outputs": [],
   "source": [
    "def fix_nodes_n_iter(nodes, n_iter):\n",
    "\n",
    "    \n",
    "    model = sim.ABC(time = 2,\n",
    "                    nodes = nodes,\n",
    "                    beta = [1,1,-4,5],\n",
    "                    alpha_0 = [[1, 1, 10], [1, 10, 1], [10, 1, 1]])\n",
    "    q, p = model.settings.B.shape\n",
    "    constraint = Dir_Reg.fit.gen_constraint(p, True)\n",
    "    B = model.settings.B\n",
    "    beta = model.settings.beta\n",
    "\n",
    "    B_hat = torch.zeros(n_iter, q*p)\n",
    "    beta_tilde = torch.zeros(n_iter, 4)\n",
    "    fish_est = torch.zeros(n_iter, (q*p)**2)\n",
    "\n",
    "\n",
    "    for i in tm(range(n_iter), desc = str(nodes)):\n",
    "        torch.manual_seed(i)\n",
    "        model.update_settings()\n",
    "        Z0 = model.synth_data[\"lat_pos\"][0,]\n",
    "        Z1 = model.synth_data[\"lat_pos\"][1,]\n",
    "        Y0 = model.synth_data[\"obs_adj\"][0,]\n",
    "        X0 = sim.ABC.gen_X(Y0, Z0, model.settings.K)\n",
    "\n",
    "        est = Dir_Reg.fit(predictor = X0, response = Z1, constrained = False, beta_guess = model.settings.beta)\n",
    "\n",
    "        B_hat[i,] = est.est_result[\"estimate\"].reshape(-1)\n",
    "        beta_tilde[i,] = Dir_Reg.fit.proj_beta(est.est_result[\"estimate\"], constraint).reshape(-1)\n",
    "        fish_est[i,] = est.est_result[\"fisher_info\"].reshape(-1)\n",
    "    \n",
    "    \n",
    "    B_hat = B_hat.reshape(-1).unsqueeze(dim = 0)\n",
    "    beta_tilde = beta_tilde.reshape(-1).unsqueeze(dim = 0)\n",
    "\n",
    "    comp = torch.as_tensor(list(range(1, q*p+1)) * n_iter).unsqueeze(dim = 0)\n",
    "    comp_tilde = torch.as_tensor(list(range(1, 4+1)) * n_iter).unsqueeze(dim = 0)\n",
    "\n",
    "    seed_id = torch.as_tensor(list(range(1, n_iter+1)) * q*p).reshape(q*p, n_iter).T.reshape(-1).unsqueeze(dim = 0)\n",
    "    seed_id_tilde = torch.as_tensor(list(range(1, n_iter+1)) * 4).reshape(4, n_iter).T.reshape(-1).unsqueeze(dim = 0)\n",
    "\n",
    "    node_id = nodes * torch.ones(q*p*n_iter).unsqueeze(dim = 0)\n",
    "    node_id_tilde = nodes * torch.ones(4*n_iter).unsqueeze(dim = 0)\n",
    "\n",
    "    B_real = torch.stack([B.reshape(-1)]* n_iter).reshape(-1).unsqueeze(dim = 0)\n",
    "    beta_real = torch.stack([beta.reshape(-1)]* n_iter).reshape(-1).unsqueeze(dim = 0)\n",
    "    \n",
    "\n",
    "    B_hat = torch.cat([node_id, seed_id, comp, B_hat, B_real], dim = 0).T\n",
    "    B_hat = pd.DataFrame(B_hat)\n",
    "\n",
    "    beta_tilde = torch.cat([node_id_tilde, seed_id_tilde, comp_tilde, beta_tilde, beta_real], dim = 0).T\n",
    "    beta_tilde = pd.DataFrame(beta_tilde)\n",
    "\n",
    "    column_names = ['Node', 'Seed', 'Comp', 'B_hat', 'B_real']\n",
    "    B_hat.columns = column_names\n",
    "    B_hat = B_hat.astype({'Node': 'int32', 'Seed': 'int32', 'Comp': 'int32', 'B_hat': 'float64', 'B_real': 'float64'})\n",
    "\n",
    "    column_names = ['Node', 'Seed', 'Comp', 'beta_tilde', 'beta_real']\n",
    "    beta_tilde.columns = column_names\n",
    "    beta_tilde = beta_tilde.astype({'Node': 'int32', 'Seed': 'int32', 'Comp': 'int32', 'beta_tilde': 'float64', 'beta_real': 'float64'})\n",
    "\n",
    "    \n",
    "\n",
    "\n",
    "    result_dict = {\"B_hat\": B_hat, \"beta_tilde\": beta_tilde, \"fish_est\": fish_est.mean(dim = 0).reshape(q*p, q*p)}\n",
    "    return(result_dict)\n"
   ]
  },
  {
   "cell_type": "code",
   "execution_count": 5,
   "metadata": {},
   "outputs": [
    {
     "name": "stderr",
     "output_type": "stream",
     "text": [
      "1500: 100%|██████████| 20/20 [00:01<00:00, 12.44it/s]\n",
      "3000: 100%|██████████| 20/20 [00:03<00:00,  5.91it/s]\n",
      "4500: 100%|██████████| 20/20 [00:07<00:00,  2.67it/s]\n",
      "6000: 100%|██████████| 20/20 [00:12<00:00,  1.54it/s]\n",
      "7500: 100%|██████████| 20/20 [00:18<00:00,  1.07it/s]\n",
      "9000: 100%|██████████| 20/20 [00:28<00:00,  1.44s/it]\n",
      "10500: 100%|██████████| 20/20 [00:51<00:00,  2.55s/it]\n",
      "12000: 100%|██████████| 20/20 [01:21<00:00,  4.05s/it]\n"
     ]
    }
   ],
   "source": [
    "n_iter = 20\n",
    "n_set = list(range(3000, 13500, 1500))\n",
    "constraint = Dir_Reg.fit.gen_constraint(3, True)\n",
    "H = torch.linalg.solve(constraint.T @ constraint, constraint.T)\n",
    "\n",
    "temp = fix_nodes_n_iter(1500, n_iter)\n",
    "df_B = temp[\"B_hat\"]\n",
    "df_beta = temp[\"beta_tilde\"]\n",
    "df_fish = temp[\"fish_est\"].unsqueeze(dim = 0)\n",
    "df_fish_C = (H @ torch.linalg.solve(temp[\"fish_est\"], H.T)).unsqueeze(dim = 0)\n",
    "\n",
    "for n in n_set:\n",
    "    temp = fix_nodes_n_iter(n, n_iter)\n",
    "    df_B = pd.concat([df_B, temp[\"B_hat\"]], ignore_index= True)\n",
    "    df_beta = pd.concat([df_beta, temp[\"beta_tilde\"]], ignore_index= True)\n",
    "    df_fish = torch.cat([df_fish, temp[\"fish_est\"].unsqueeze(dim = 0)], dim = 0)\n",
    "    df_fish_C = torch.cat([df_fish_C, (H @ torch.linalg.solve(temp[\"fish_est\"], H.T)).unsqueeze(dim = 0)], dim = 0)\n",
    "\n",
    "df_fish_C_diag = torch.stack([df_fish_C[i].diag() for i in range(len(n_set) + 1)])\n",
    "df_fish_diag = torch.stack([df_fish[i].diag() for i in range(len(n_set) + 1)])\n",
    "\n",
    "df_fish_C_diag = pd.DataFrame(df_fish_C_diag)\n",
    "df_fish_diag = pd.DataFrame(df_fish_diag)\n"
   ]
  },
  {
   "cell_type": "code",
   "execution_count": null,
   "metadata": {},
   "outputs": [],
   "source": [
    "# df_B.to_csv(r\"C:\\Users\\yangs\\Desktop\\df_B.csv\", index = False)\n",
    "# df_beta.to_csv(r\"C:\\Users\\yangs\\Desktop\\df_beta.csv\", index = False)\n",
    "# df_fish_C_diag.to_csv(r\"C:\\Users\\yangs\\Desktop\\df_fish_C_diag.csv\", index = False)\n"
   ]
  },
  {
   "cell_type": "code",
   "execution_count": null,
   "metadata": {},
   "outputs": [],
   "source": [
    "df_beta"
   ]
  }
 ],
 "metadata": {
  "kernelspec": {
   "display_name": "Python 3",
   "language": "python",
   "name": "python3"
  },
  "language_info": {
   "codemirror_mode": {
    "name": "ipython",
    "version": 3
   },
   "file_extension": ".py",
   "mimetype": "text/x-python",
   "name": "python",
   "nbconvert_exporter": "python",
   "pygments_lexer": "ipython3",
   "version": "3.11.8"
  }
 },
 "nbformat": 4,
 "nbformat_minor": 2
}
