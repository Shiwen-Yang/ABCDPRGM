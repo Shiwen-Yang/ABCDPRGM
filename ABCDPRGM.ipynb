{
 "cells": [
  {
   "cell_type": "code",
   "execution_count": 3,
   "metadata": {},
   "outputs": [],
   "source": [
    "import numpy as np\n",
    "import matplotlib.pyplot as plt\n",
    "import seaborn as sns\n",
    "import torch\n",
    "from torch.distributions import Dirichlet, Bernoulli, Uniform\n",
    "import pandas as pd\n",
    "import tqdm as tm\n",
    "\n",
    "from src import Simulation as sim\n",
    "from src import Dir_Reg\n",
    "from src import Align\n",
    "from src import visualize_latent_space as vls\n",
    "\n",
    "device = torch.device('cuda') if torch.cuda.is_available() else torch.device('cpu')"
   ]
  },
  {
   "cell_type": "markdown",
   "metadata": {},
   "source": [
    "Below we generate the synthetic data set that shows how the latent position in ABCDPRGM evolves through time under different settings."
   ]
  },
  {
   "cell_type": "code",
   "execution_count": 44,
   "metadata": {},
   "outputs": [],
   "source": [
    "model = sim.ABC(time = 30,\n",
    "                nodes = 1200,\n",
    "                beta = [1,1,-4,5],\n",
    "                alpha_0 = [[1, 1, 10], [1, 10, 1], [10, 1, 1]])"
   ]
  },
  {
   "cell_type": "markdown",
   "metadata": {},
   "source": [
    "Let $\\widehat{B} \\in \\mathbb{R}^{q \\times p}$ be the MLE that corresponds to the design matrix $X \\otimes I_p$, and $\\tilde{\\beta} = (C^T C)^{-1} C^T \\widehat{B}$. Let $\\widehat{\\beta}$ be the MLE that corresponds to the design matrix $(X \\otimes I_p)C$.\n",
    "\n",
    "We first do Monte Carlo simulations to verify the asymptotic behavior of $\\widehat{B}$ and $\\tilde{\\beta}$. "
   ]
  },
  {
   "cell_type": "code",
   "execution_count": 4,
   "metadata": {},
   "outputs": [],
   "source": [
    "torch.manual_seed(0)\n",
    "model = sim.ABC(time = 2,\n",
    "                nodes = 1200,\n",
    "                beta = [1,1,-4,5],\n",
    "                alpha_0 = [[1, 1, 10], [1, 10, 1], [10, 1, 1]])"
   ]
  },
  {
   "cell_type": "code",
   "execution_count": 36,
   "metadata": {},
   "outputs": [],
   "source": [
    "def fix_nodes_n_iter(model, nodes, n_iter, constrained):\n",
    "\n",
    "    \"\"\" run the model with n nodes n_iter number of times, record the estimated beta and fisher's information \"\"\"\n",
    "\n",
    "    model.update_settings(nodes = nodes)\n",
    "    \n",
    "    B = model.settings.B\n",
    "    beta = model.settings.beta\n",
    "\n",
    "    q, p = B.shape\n",
    "    constraint = Dir_Reg.fit.gen_constraint(p, True)\n",
    "\n",
    "    B_hat = torch.zeros(n_iter, q*p)\n",
    "\n",
    "    if constrained: \n",
    "        qp = 4\n",
    "    else:\n",
    "        qp = q*p\n",
    "\n",
    "    fish_est = torch.zeros(n_iter, (qp)**2)\n",
    "\n",
    "    for i in range(n_iter):\n",
    "\n",
    "        torch.manual_seed(i)\n",
    "        model.update_settings()\n",
    "        \n",
    "        Z0 = model.synth_data[\"lat_pos\"][0,]\n",
    "        Z1 = model.synth_data[\"lat_pos\"][1,]\n",
    "        Y0 = model.synth_data[\"obs_adj\"][0,]\n",
    "        X0 = sim.ABC.gen_X(Y0, Z0, model.settings.K)\n",
    "\n",
    "        est = Dir_Reg.fit(predictor = X0, response = Z1, constrained = constrained, beta_guess = model.settings.beta)\n",
    "\n",
    "        B_hat[i,] = est.est_result[\"estimate\"].reshape(-1)\n",
    "        fish_est[i,] = est.est_result[\"fisher_info\"].reshape(-1)\n",
    "\n",
    "    def to_pd_df(n, mat, b_real, name):\n",
    "        \"\"\" so that the experiment result can live in the DLS data wonderland \"\"\"\n",
    "        n_iter, qp = mat.shape\n",
    "        vec = mat.reshape(1, -1)\n",
    "        comp = torch.arange(1, qp+1).repeat(n_iter).unsqueeze(dim = 0)\n",
    "        seed_id = torch.arange(n_iter).repeat_interleave(qp).unsqueeze(dim = 0)\n",
    "        node_id = n * torch.ones(qp*n_iter).unsqueeze(dim = 0)\n",
    "        b_real_stack = torch.stack([b_real.reshape(-1)]* n_iter).reshape(1, -1)\n",
    "        b_df = torch.cat([seed_id, node_id, comp, vec, b_real_stack], dim = 0).T\n",
    "        b_df = pd.DataFrame(b_df)\n",
    "        b_df.columns = [\"Seed\", \"Nodes\", \"Comp\", name + \"_hat\", name + \"_real\"]\n",
    "        for column in b_df.columns:\n",
    "            if \"_\" not in column:\n",
    "                try:\n",
    "                    b_df[column] = b_df[column].astype(int)\n",
    "                except ValueError:\n",
    "                    pass\n",
    "\n",
    "        return(b_df)\n",
    "\n",
    "    B_df = to_pd_df(nodes, B_hat, B, \"B\")\n",
    "    beta_tilde = torch.linalg.solve(constraint.T @ constraint, constraint.T) @ B_hat.T\n",
    "    beta_df = to_pd_df(nodes, beta_tilde.T, beta, \"beta\")\n",
    "\n",
    "    result_dict = {\"B_hat\": B_df, \"beta_tilde\": beta_df, \"fish_est\": fish_est.mean(dim = 0).reshape(qp, qp)}\n",
    "    return(result_dict)\n"
   ]
  },
  {
   "cell_type": "code",
   "execution_count": 43,
   "metadata": {},
   "outputs": [],
   "source": [
    "model = sim.ABC(time = 2,\n",
    "                nodes = 1200,\n",
    "                beta = [1,1,-4,5],\n",
    "                alpha_0 = [[1, 1, 10], [1, 10, 1], [10, 1, 1]])\n",
    "n_iter = 1\n",
    "n_set = list(range(3000, 13500, 1500))\n",
    "constraint = Dir_Reg.fit.gen_constraint(3, True)\n",
    "constrained = False\n",
    "\n",
    "temp = fix_nodes_n_iter(model, 1500, n_iter, constrained)\n",
    "df_B = temp[\"B_hat\"]\n",
    "df_beta = temp[\"beta_tilde\"]\n",
    "df_fish = temp[\"fish_est\"].unsqueeze(dim = 0)\n",
    "\n",
    "for n in n_set:\n",
    "    temp = fix_nodes_n_iter(model, n, n_iter, constrained)\n",
    "    df_B = pd.concat([df_B, temp[\"B_hat\"]], ignore_index= True)\n",
    "    df_beta = pd.concat([df_beta, temp[\"beta_tilde\"]], ignore_index= True)\n",
    "    df_fish = torch.cat([df_fish, temp[\"fish_est\"].unsqueeze(dim = 0)], dim = 0)\n",
    "\n",
    "df_vec_fish = pd.DataFrame(df_fish.reshape(8, -1))\n",
    "df_fish_diag = torch.stack([df_fish[i].diag() for i in range(len(n_set) + 1)])\n",
    "df_fish_diag = pd.DataFrame(df_fish_diag)\n",
    "\n",
    "df_B.to_csv(r\"simulated_data\\emp_var_vs_obs_var\\B_oracle.csv\", index = False)\n",
    "df_beta.to_csv(r\"simulated_data\\emp_var_vs_obs_var\\B_oracle_proj.csv\", index = False)\n",
    "df_vec_fish.to_csv(r\"simulated_data\\emp_var_vs_obs_var\\B_fish.csv\", index = False)"
   ]
  }
 ],
 "metadata": {
  "kernelspec": {
   "display_name": "Python 3",
   "language": "python",
   "name": "python3"
  },
  "language_info": {
   "codemirror_mode": {
    "name": "ipython",
    "version": 3
   },
   "file_extension": ".py",
   "mimetype": "text/x-python",
   "name": "python",
   "nbconvert_exporter": "python",
   "pygments_lexer": "ipython3",
   "version": "3.11.7"
  }
 },
 "nbformat": 4,
 "nbformat_minor": 2
}
